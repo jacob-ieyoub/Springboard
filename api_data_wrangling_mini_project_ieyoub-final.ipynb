{
 "cells": [
  {
   "cell_type": "markdown",
   "metadata": {},
   "source": [
    "This exercise will require you to pull some data from the Qunadl API. Qaundl is currently the most widely used aggregator of financial market data."
   ]
  },
  {
   "cell_type": "markdown",
   "metadata": {},
   "source": [
    "As a first step, you will need to register a free account on the http://www.quandl.com website."
   ]
  },
  {
   "cell_type": "markdown",
   "metadata": {},
   "source": [
    "After you register, you will be provided with a unique API key, that you should store:"
   ]
  },
  {
   "cell_type": "code",
   "execution_count": null,
   "metadata": {
    "collapsed": true
   },
   "outputs": [],
   "source": [
    "# Store the API key as a string - according to PEP8, constants are always named in all upper case\n",
    "API_KEY = ''"
   ]
  },
  {
   "cell_type": "markdown",
   "metadata": {},
   "source": [
    "Qaundl has a large number of data sources, but, unfortunately, most of them require a Premium subscription. Still, there are also a good number of free datasets."
   ]
  },
  {
   "cell_type": "markdown",
   "metadata": {},
   "source": [
    "For this mini project, we will focus on equities data from the Frankfurt Stock Exhange (FSE), which is available for free. We'll try and analyze the stock prices of a company called Carl Zeiss Meditec, which manufactures tools for eye examinations, as well as medical lasers for laser eye surgery: https://www.zeiss.com/meditec/int/home.html. The company is listed under the stock ticker AFX_X."
   ]
  },
  {
   "cell_type": "markdown",
   "metadata": {},
   "source": [
    "You can find the detailed Quandl API instructions here: https://docs.quandl.com/docs/time-series"
   ]
  },
  {
   "cell_type": "markdown",
   "metadata": {},
   "source": [
    "While there is a dedicated Python package for connecting to the Quandl API, we would prefer that you use the *requests* package, which can be easily downloaded using *pip* or *conda*. You can find the documentation for the package here: http://docs.python-requests.org/en/master/ "
   ]
  },
  {
   "cell_type": "markdown",
   "metadata": {},
   "source": [
    "Finally, apart from the *requests* package, you are encouraged to not use any third party Python packages, such as *pandas*, and instead focus on what's available in the Python Standard Library (the *collections* module might come in handy: https://pymotw.com/3/collections/ ).\n",
    "Also, since you won't have access to DataFrames, you are encouraged to us Python's native data structures - preferably dictionaries, though some questions can also be answered using lists.\n",
    "You can read more on these data structures here: https://docs.python.org/3/tutorial/datastructures.html"
   ]
  },
  {
   "cell_type": "markdown",
   "metadata": {},
   "source": [
    "Keep in mind that the JSON responses you will be getting from the API map almost one-to-one to Python's dictionaries. Unfortunately, they can be very nested, so make sure you read up on indexing dictionaries in the documentation provided above."
   ]
  },
  {
   "cell_type": "code",
   "execution_count": 4,
   "metadata": {},
   "outputs": [],
   "source": [
    "# First, import the relevant modules\n",
    "import requests\n",
    "import quandl\n",
    "import json"
   ]
  },
  {
   "cell_type": "code",
   "execution_count": 5,
   "metadata": {},
   "outputs": [
    {
     "data": {
      "text/plain": [
       "'2018-02-20'"
      ]
     },
     "execution_count": 5,
     "metadata": {},
     "output_type": "execute_result"
    }
   ],
   "source": [
    "# Now, call the Quandl API and pull out a small sample of the data (only one day) to get a glimpse\n",
    "# into the JSON structure that will be returned\n",
    "url = \"https://www.quandl.com/api/v3/datasets/WIKI/FB/data.json?api_key=API_KEY\"\n",
    "res = requests.get(url)\n",
    "res = res.json()\n",
    "res['dataset_data']['data'][25][0]"
   ]
  },
  {
   "cell_type": "code",
   "execution_count": 6,
   "metadata": {},
   "outputs": [],
   "source": [
    "# Inspect the JSON structure of the object you created, and take note of how nested it is,\n",
    "# as well as the overall structure\n"
   ]
  },
  {
   "cell_type": "markdown",
   "metadata": {},
   "source": [
    "These are your tasks for this mini project:\n",
    "\n",
    "1. Collect data from the Franfurt Stock Exchange, for the ticker AFX_X, for the whole year 2017 (keep in mind that the date format is YYYY-MM-DD).\n",
    "2. Convert the returned JSON object into a Python dictionary.\n",
    "3. Calculate what the highest and lowest opening prices were for the stock in this period.\n",
    "4. What was the largest change in any one day (based on High and Low price)?\n",
    "5. What was the largest change between any two days (based on Closing Price)?\n",
    "6. What was the average daily trading volume during this year?\n",
    "7. (Optional) What was the median trading volume during this year. (Note: you may need to implement your own function for calculating the median.)"
   ]
  },
  {
   "cell_type": "markdown",
   "metadata": {},
   "source": [
    "# 1. and 2. "
   ]
  },
  {
   "cell_type": "code",
   "execution_count": 7,
   "metadata": {},
   "outputs": [
    {
     "data": {
      "text/plain": [
       "[{'Date': '2017-12-29',\n",
       "  'Open': 178.0,\n",
       "  'High': 178.85,\n",
       "  'Low': 176.46,\n",
       "  'Close': 176.46,\n",
       "  'Volume': 10028758.0,\n",
       "  'Ex-Dividend': 0.0,\n",
       "  'Split Ratio': 1.0,\n",
       "  'Adj. Open': 178.0,\n",
       "  'Adj. High': 178.85,\n",
       "  'Adj. Low': 176.46,\n",
       "  'Adj. Close': 176.46,\n",
       "  'Adj. Volume': 10028758.0},\n",
       " {'Date': '2017-12-28',\n",
       "  'Open': 177.95,\n",
       "  'High': 178.9367,\n",
       "  'Low': 177.68,\n",
       "  'Close': 177.92,\n",
       "  'Volume': 11008996.0,\n",
       "  'Ex-Dividend': 0.0,\n",
       "  'Split Ratio': 1.0,\n",
       "  'Adj. Open': 177.95,\n",
       "  'Adj. High': 178.9367,\n",
       "  'Adj. Low': 177.68,\n",
       "  'Adj. Close': 177.92,\n",
       "  'Adj. Volume': 11008996.0},\n",
       " {'Date': '2017-12-27',\n",
       "  'Open': 176.55,\n",
       "  'High': 178.44,\n",
       "  'Low': 176.26,\n",
       "  'Close': 177.62,\n",
       "  'Volume': 9296258.0,\n",
       "  'Ex-Dividend': 0.0,\n",
       "  'Split Ratio': 1.0,\n",
       "  'Adj. Open': 176.55,\n",
       "  'Adj. High': 178.44,\n",
       "  'Adj. Low': 176.26,\n",
       "  'Adj. Close': 177.62,\n",
       "  'Adj. Volume': 9296258.0},\n",
       " {'Date': '2017-12-26',\n",
       "  'Open': 176.63,\n",
       "  'High': 177.0,\n",
       "  'Low': 174.67,\n",
       "  'Close': 175.99,\n",
       "  'Volume': 8726829.0,\n",
       "  'Ex-Dividend': 0.0,\n",
       "  'Split Ratio': 1.0,\n",
       "  'Adj. Open': 176.63,\n",
       "  'Adj. High': 177.0,\n",
       "  'Adj. Low': 174.67,\n",
       "  'Adj. Close': 175.99,\n",
       "  'Adj. Volume': 8726829.0},\n",
       " {'Date': '2017-12-22',\n",
       "  'Open': 177.14,\n",
       "  'High': 177.53,\n",
       "  'Low': 176.23,\n",
       "  'Close': 177.2,\n",
       "  'Volume': 8462491.0,\n",
       "  'Ex-Dividend': 0.0,\n",
       "  'Split Ratio': 1.0,\n",
       "  'Adj. Open': 177.14,\n",
       "  'Adj. High': 177.53,\n",
       "  'Adj. Low': 176.23,\n",
       "  'Adj. Close': 177.2,\n",
       "  'Adj. Volume': 8462491.0}]"
      ]
     },
     "execution_count": 7,
     "metadata": {},
     "output_type": "execute_result"
    }
   ],
   "source": [
    "#Get columns from JSON file\n",
    "columns = res['dataset_data']['column_names']\n",
    "\n",
    "#List comprehension to created list of 2017 data\n",
    "res_date = res['dataset_data']['data']  \n",
    "list_2017 = [res_date[i] for i in range(len(res_date)) if '2017' in res_date[i][0]]\n",
    "\n",
    "#zip columns and data into list of dicts\n",
    "data_2017 = [dict(zip(columns,ele)) for ele in list_2017]\n",
    "\n",
    "data_2017[0:5]"
   ]
  },
  {
   "cell_type": "markdown",
   "metadata": {},
   "source": [
    "# 3. Highest and Lowest Opening Price"
   ]
  },
  {
   "cell_type": "code",
   "execution_count": 8,
   "metadata": {},
   "outputs": [
    {
     "name": "stdout",
     "output_type": "stream",
     "text": [
      "The highest opening price for AFX_X in 2017 was $183.51.\n",
      "The lowest opening price for AFX_X in 2017 was $116.03.\n"
     ]
    }
   ],
   "source": [
    "#list comprehension to obtain opening prices in 2017\n",
    "open_prices = [data_2017[index][key] for index in range(len(data_2017)) for key in data_2017[index] if key == 'Open']\n",
    "\n",
    "#obtain the max and min of opening prices in 2017\n",
    "print('The highest opening price for AFX_X in 2017 was ' + '$' + str(max(open_prices)) + '.')\n",
    "print('The lowest opening price for AFX_X in 2017 was ' + '$' + str(min(open_prices)) + '.')"
   ]
  },
  {
   "cell_type": "markdown",
   "metadata": {},
   "source": [
    "# 4. Largest change in price on one day (based on high and low)"
   ]
  },
  {
   "cell_type": "code",
   "execution_count": 9,
   "metadata": {},
   "outputs": [
    {
     "name": "stdout",
     "output_type": "stream",
     "text": [
      "The largest change in price in one day is $8.98.\n"
     ]
    }
   ],
   "source": [
    "#list comprehension to obtain the differences between daily high and low in 2017\n",
    "high_low_diff = [round(data_2017[index]['High'] - data_2017[index]['Low'], 2) for index in range(len(data_2017))]\n",
    "\n",
    "#obtain largest change in daily high and low difference\n",
    "print('The largest change in price in one day is ' + '$' + str(max(high_low_diff)) + '.')"
   ]
  },
  {
   "cell_type": "markdown",
   "metadata": {},
   "source": [
    "# 5. Largest change between two days based on closing price"
   ]
  },
  {
   "cell_type": "code",
   "execution_count": 10,
   "metadata": {},
   "outputs": [
    {
     "name": "stdout",
     "output_type": "stream",
     "text": [
      "The largest change between two days based on close prices was $7.67.\n"
     ]
    }
   ],
   "source": [
    "#list comprehension to obtain close prices in 2017\n",
    "close = [data_2017[index]['Close'] for index in range(len(data_2017))]\n",
    "\n",
    "#list comprehension to obtain differences in close prices in 2017\n",
    "close_diff = [round(close[index] - close[index - 1], 2) for index in range(len(close)) if index > 0]\n",
    "\n",
    "#obtain max difference between two days of close price\n",
    "print('The largest change between two days based on close prices was $' + str(max(close_diff)) + '.' )    \n"
   ]
  },
  {
   "cell_type": "markdown",
   "metadata": {},
   "source": [
    "# 6. What was the average daily trading volume during this year?"
   ]
  },
  {
   "cell_type": "code",
   "execution_count": 11,
   "metadata": {},
   "outputs": [
    {
     "name": "stdout",
     "output_type": "stream",
     "text": [
      "The average daily trading volume in 2017 was 16468073.856.\n"
     ]
    }
   ],
   "source": [
    "#list comprehension to obtain daily volume in 2017\n",
    "volume = [data_2017[index]['Volume'] for index in range(len(data_2017))]\n",
    "\n",
    "#obtain average daily trading volume in 2017\n",
    "volume_avg = sum(volume) / len(volume)\n",
    "print('The average daily trading volume in 2017 was ' + str(volume_avg) + '.')"
   ]
  },
  {
   "cell_type": "markdown",
   "metadata": {},
   "source": [
    "# 7. What was the median trading volume during this year?"
   ]
  },
  {
   "cell_type": "code",
   "execution_count": 12,
   "metadata": {},
   "outputs": [
    {
     "name": "stdout",
     "output_type": "stream",
     "text": [
      "The median trading volume in 2017 was 14548954.0.\n"
     ]
    }
   ],
   "source": [
    "# using statistics package to obtain median trading volume in 2017\n",
    "import statistics\n",
    "\n",
    "volume_median = statistics.median(volume)\n",
    "print('The median trading volume in 2017 was ' + str(volume_median) + '.')"
   ]
  },
  {
   "cell_type": "code",
   "execution_count": 13,
   "metadata": {},
   "outputs": [
    {
     "name": "stdout",
     "output_type": "stream",
     "text": [
      "The median trading volume in 2017 was 14548954.0.\n"
     ]
    }
   ],
   "source": [
    "# using function created to find median from list\n",
    "volume.sort()\n",
    "\n",
    "\n",
    "def median(list1):\n",
    "    l = len(list1)\n",
    "    list1.sort()\n",
    "    \n",
    "    if l % 2 == 0:\n",
    "        median1 = list1[l//2]\n",
    "        median2 = list1[l//2 - 1]\n",
    "        median = (median1 + median2)/2\n",
    "    else:\n",
    "        median = list1[l//2]\n",
    "    return median\n",
    "\n",
    "print('The median trading volume in 2017 was ' + str(median(volume)) + '.')\n",
    "        "
   ]
  },
  {
   "cell_type": "code",
   "execution_count": null,
   "metadata": {},
   "outputs": [],
   "source": [
    " "
   ]
  },
  {
   "cell_type": "code",
   "execution_count": null,
   "metadata": {},
   "outputs": [],
   "source": []
  }
 ],
 "metadata": {
  "kernelspec": {
   "display_name": "Python 3",
   "language": "python",
   "name": "python3"
  },
  "language_info": {
   "codemirror_mode": {
    "name": "ipython",
    "version": 3
   },
   "file_extension": ".py",
   "mimetype": "text/x-python",
   "name": "python",
   "nbconvert_exporter": "python",
   "pygments_lexer": "ipython3",
   "version": "3.7.4"
  }
 },
 "nbformat": 4,
 "nbformat_minor": 2
}
